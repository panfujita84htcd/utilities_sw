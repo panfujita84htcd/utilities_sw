{
 "cells": [
  {
   "cell_type": "markdown",
   "id": "4c10cc09",
   "metadata": {},
   "source": [
    "#### Enviroment for python ML applcation\n",
    "\n",
    "It is strongly recommended to work with python application that you can work on a isolated environment, so you can work on different projects without having conflicting library.\n",
    "1. Install pip3 package with root permission\n",
    "\n",
    "```bash\n",
    "sudo apt update\n",
    "sudo apt upgrade\n",
    "sudo apt install python3-pip\n",
    "```\n",
    "2. Setup isolated environment\n",
    "\n",
    "```bash\n",
    "export MLDIR = \"$HOME/mlwork\"\n",
    "mkdir -p $MLDIR\n",
    "\n",
    "pip3 --version\n",
    "pip3 install --upgrade pip\n",
    "pip3 install --user --upgrade virtualenv\n",
    "cd $MLDIR\n",
    "virtualenv env\n",
    "source env/bin/activate\n",
    "pip3 install --upgrade jupyter matplotlib numpy pandas scipy scikit-learn\n",
    "```"
   ]
  },
  {
   "cell_type": "markdown",
   "id": "27e72a78",
   "metadata": {},
   "source": [
    "#### Check the quality of python code\n",
    "\n",
    "Commonly, we have some tools that enables developers to check and modify their python code quality as well as code rules: **pylint, docstrings, pycodestyle, pydocstyle, mypy**. We can combine them together to check our python code or add addon alternatively to some code editor like: **vscode, vim,...**\n",
    "For example: we have a python code file: **create_ui.py**\n",
    "\n",
    "```bash\n",
    "pip3 install pylint, docstrings, pycodestyle, pydocstyle, mypy\n",
    "pylint create_ui.py\n",
    "docstring create_ui.py\n",
    "pycodestyle create_ui.py\n",
    "pydocstyle create_ui.py\n",
    "mypy create_ui.py\n",
    "```\n"
   ]
  },
  {
   "cell_type": "code",
   "execution_count": null,
   "id": "1f7cc2b5",
   "metadata": {},
   "outputs": [],
   "source": []
  }
 ],
 "metadata": {
  "kernelspec": {
   "display_name": "Python 3 (ipykernel)",
   "language": "python",
   "name": "python3"
  },
  "language_info": {
   "codemirror_mode": {
    "name": "ipython",
    "version": 3
   },
   "file_extension": ".py",
   "mimetype": "text/x-python",
   "name": "python",
   "nbconvert_exporter": "python",
   "pygments_lexer": "ipython3",
   "version": "3.8.10"
  }
 },
 "nbformat": 4,
 "nbformat_minor": 5
}
