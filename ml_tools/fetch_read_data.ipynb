{
 "cells": [
  {
   "cell_type": "markdown",
   "id": "5a948ab9",
   "metadata": {},
   "source": [
    "#### Scenarious\n",
    "\n",
    "In typical environments your data would be available in a relational database and spread across multiple tables/doc/files. the following example just download a single compressed file  of csv file by using  python fuctions.\n"
   ]
  },
  {
   "cell_type": "markdown",
   "id": "d48f7e16",
   "metadata": {},
   "source": [
    "#### Script"
   ]
  },
  {
   "cell_type": "code",
   "execution_count": 5,
   "id": "5c7266cf",
   "metadata": {},
   "outputs": [],
   "source": [
    "import os\n",
    "import tarfile\n",
    "import urllib\n",
    "import pandas as pd\n",
    "\n",
    "DOWNLOAD_ROOT = \"https://raw.githubusercontent.com/dophanngoc/healthcare.hrv-analysis/develop/\"\n",
    "DATA_PATH = \"datasets/mmwave\"\n",
    "DATA_URL = DOWNLOAD_ROOT + DATA_PATH + \"/data_phase1.tar.gz\"\n",
    "\n",
    "def fetch_data(data_url=DATA_URL, data_path=DATA_PATH):\n",
    "    if not os.path.isdir(data_path):\n",
    "        os.mkdirs(data_path)\n",
    "    tgz_path = os.path.join(data_path, \"data_phase1.tar.gz\")\n",
    "    urllib.request.urlretrieve(data_url, tgz_path)\n",
    "    data_tgz = tarfile.open(tgz_path)\n",
    "    data_tgz_extractall(path=data_path)\n",
    "    data_tgz.close()\n",
    "    \n",
    "def load_mmwave_data(data_path=DATA_PATH):\n",
    "    csv_path = os.path.join(data_path, \"data_phase1.csv\")\n",
    "    return pd.read_csv(csv_path)"
   ]
  },
  {
   "cell_type": "markdown",
   "id": "b588ce30",
   "metadata": {},
   "source": [
    "#### Quick look on csv file"
   ]
  },
  {
   "cell_type": "code",
   "execution_count": null,
   "id": "cc6e278d",
   "metadata": {},
   "outputs": [],
   "source": [
    "data_mmwave = load_mmwave_data()\n",
    "data_mmwave.head() #top file rows display\n",
    "data_mmwave.info() #"
   ]
  }
 ],
 "metadata": {
  "kernelspec": {
   "display_name": "Python 3 (ipykernel)",
   "language": "python",
   "name": "python3"
  },
  "language_info": {
   "codemirror_mode": {
    "name": "ipython",
    "version": 3
   },
   "file_extension": ".py",
   "mimetype": "text/x-python",
   "name": "python",
   "nbconvert_exporter": "python",
   "pygments_lexer": "ipython3",
   "version": "3.8.10"
  }
 },
 "nbformat": 4,
 "nbformat_minor": 5
}
